{
 "cells": [
  {
   "cell_type": "code",
   "execution_count": 3,
   "id": "3184287a",
   "metadata": {},
   "outputs": [],
   "source": [
    "from typing import Dict, TypedDict\n",
    "from langgraph.graph import StateGraph\n",
    "from IPython.display import display, Image\n"
   ]
  },
  {
   "cell_type": "markdown",
   "id": "ad370182",
   "metadata": {},
   "source": [
    "# Exercise : Personalized Compliment Agent"
   ]
  },
  {
   "cell_type": "code",
   "execution_count": 4,
   "id": "8ff26284",
   "metadata": {},
   "outputs": [],
   "source": [
    "class PC_Agent(TypedDict):\n",
    "    name : str"
   ]
  },
  {
   "cell_type": "code",
   "execution_count": 5,
   "id": "dd04b0d8",
   "metadata": {},
   "outputs": [],
   "source": [
    "def personalized_compliment_agent(state: PC_Agent) -> PC_Agent:\n",
    "    \"\"\"Node that generates a personalized compliment.\"\"\"\n",
    "\n",
    "    state['name'] = state[\"name\"] + \", you're doing an amazing job learning LaangGraph!\"\n",
    "\n",
    "    return state"
   ]
  },
  {
   "cell_type": "code",
   "execution_count": 6,
   "id": "e14b7b32",
   "metadata": {},
   "outputs": [],
   "source": [
    "graph2 = StateGraph(PC_Agent)\n",
    "\n",
    "graph2.add_node(\"personalized_compliment\", personalized_compliment_agent)\n",
    "\n",
    "graph2.set_entry_point(\"personalized_compliment\")\n",
    "graph2.set_finish_point(\"personalized_compliment\")\n",
    "\n",
    "app2 = graph2.compile()"
   ]
  },
  {
   "cell_type": "code",
   "execution_count": 7,
   "id": "e5a02284",
   "metadata": {},
   "outputs": [
    {
     "data": {
      "image/png": "[encoded data removed]",
      "text/plain": [
       "<IPython.core.display.Image object>"
      ]
     },
     "metadata": {},
     "output_type": "display_data"
    }
   ],
   "source": [
    "display(Image(app2.get_graph().draw_mermaid_png()))"
   ]
  },
  {
   "cell_type": "code",
   "execution_count": 8,
   "id": "18819528",
   "metadata": {},
   "outputs": [],
   "source": [
    "result2 = app2.invoke({'name': 'Nia'})"
   ]
  },
  {
   "cell_type": "code",
   "execution_count": 9,
   "id": "2220848c",
   "metadata": {},
   "outputs": [
    {
     "data": {
      "text/plain": [
       "\"Nia, you're doing an amazing job learning LaangGraph!\""
      ]
     },
     "execution_count": 9,
     "metadata": {},
     "output_type": "execute_result"
    }
   ],
   "source": [
    "result2['name']"
   ]
  }
 ],
 "metadata": {
  "kernelspec": {
   "display_name": "Python 3",
   "language": "python",
   "name": "python3"
  },
  "language_info": {
   "codemirror_mode": {
    "name": "ipython",
    "version": 3
   },
   "file_extension": ".py",
   "mimetype": "text/x-python",
   "name": "python",
   "nbconvert_exporter": "python",
   "pygments_lexer": "ipython3",
   "version": "3.9.6"
  }
 },
 "nbformat": 4,
 "nbformat_minor": 5
}
